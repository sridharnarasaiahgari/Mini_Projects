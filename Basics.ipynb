{
 "cells": [
  {
   "cell_type": "code",
   "execution_count": 311,
   "metadata": {
    "collapsed": false
   },
   "outputs": [
    {
     "name": "stdout",
     "output_type": "stream",
     "text": [
      "['Id', 'Company', 'Product', 'TypeName', 'Inches', 'ScreenResolution', 'Cpu', 'Ram', 'Memory', 'Gpu', 'OpSys', 'Weight', 'Price']\n"
     ]
    },
    {
     "data": {
      "text/plain": [
       "1303"
      ]
     },
     "execution_count": 311,
     "metadata": {},
     "output_type": "execute_result"
    }
   ],
   "source": [
    "import csv\n",
    "class Inventory():\n",
    "\n",
    "    def __init__(self, csv_filename):\n",
    "        self.file_open = open(csv_filename)\n",
    "        self.file_read = csv.reader(self.file_open)\n",
    "        self.file_data = list(self.file_read)\n",
    "        self.header = self.file_data[0]\n",
    "        self.rows = self.file_data[1:]\n",
    "        self.id_to_know = {}\n",
    "        self.prices = set()\n",
    "        def row_price(row):\n",
    "            return int(row[-1])\n",
    "        self.rows_by_price = sorted(rows, key=row_price)\n",
    "        for row in self.rows:\n",
    "            self.id_to_know[row[0]] = row\n",
    "            self.prices.add(int(row[12]))\n",
    "    def get_laptop_from_id(self,laptop_id):\n",
    "        for row in self.rows:\n",
    "            if laptop_id == row[0]:\n",
    "                return row\n",
    "        return None\n",
    "    def get_laptop_from_id_fast(self,laptop_id):\n",
    "        if laptop_id in self.id_to_know:\n",
    "            return self.id_to_know[laptop_id]\n",
    "        else:\n",
    "            return None\n",
    "    def check_promotion_dollars(self, dollars):\n",
    "        for row in self.rows:\n",
    "            if dollars == int(row[12]):\n",
    "                return True\n",
    "        for row in self.rows:\n",
    "            for row_again in self.rows:\n",
    "                if dollars == int(row[12]) + int(row_again[12]):\n",
    "                    return True\n",
    "        return False\n",
    "    def check_promotion_dollars_fast(self, dollars):\n",
    "        if dollars in self.prices:\n",
    "            return True\n",
    "        for val in self.prices:\n",
    "            for val_again in self.prices:\n",
    "                if dollars == val + val_again:\n",
    "                    return True\n",
    "        return False\n",
    "    def find_first_laptop_more_expensive(self, target_price):\n",
    "        range_start = 0                                   \n",
    "        range_end = len(self.rows_by_price) - 1   \n",
    "        print(self.rows_by_price[-1])\n",
    "        while range_start < range_end:\n",
    "            range_middle = (range_end + range_start) // 2  \n",
    "            price = int(self.rows_by_price[range_middle][-1])\n",
    "            if price > target_price:\n",
    "                range_end = range_middle\n",
    "            else:\n",
    "                range_start = range_middle + 1\n",
    "        price = int(self.rows_by_price[range_start][-1])\n",
    "        if price <= target_price:                  \n",
    "            return -1                                      \n",
    "        return range_start\n",
    "        \n",
    "            \n",
    "inv = Inventory('laptops.csv')\n",
    "print(header)\n",
    "len(inv.rows)\n",
    "\n"
   ]
  },
  {
   "cell_type": "code",
   "execution_count": 312,
   "metadata": {
    "collapsed": false
   },
   "outputs": [
    {
     "data": {
      "text/plain": [
       "['3362737',\n",
       " 'HP',\n",
       " '250 G6',\n",
       " 'Notebook',\n",
       " '15.6',\n",
       " 'Full HD 1920x1080',\n",
       " 'Intel Core i5 7200U 2.5GHz',\n",
       " '8GB',\n",
       " '256GB SSD',\n",
       " 'Intel HD Graphics 620',\n",
       " 'No OS',\n",
       " '1.86kg',\n",
       " '575']"
      ]
     },
     "execution_count": 312,
     "metadata": {},
     "output_type": "execute_result"
    }
   ],
   "source": [
    "inv.get_laptop_from_id('3362737')"
   ]
  },
  {
   "cell_type": "code",
   "execution_count": 313,
   "metadata": {
    "collapsed": false
   },
   "outputs": [],
   "source": [
    "inv.get_laptop_from_id('3362736')"
   ]
  },
  {
   "cell_type": "code",
   "execution_count": 314,
   "metadata": {
    "collapsed": false
   },
   "outputs": [
    {
     "data": {
      "text/plain": [
       "['3362737',\n",
       " 'HP',\n",
       " '250 G6',\n",
       " 'Notebook',\n",
       " '15.6',\n",
       " 'Full HD 1920x1080',\n",
       " 'Intel Core i5 7200U 2.5GHz',\n",
       " '8GB',\n",
       " '256GB SSD',\n",
       " 'Intel HD Graphics 620',\n",
       " 'No OS',\n",
       " '1.86kg',\n",
       " '575']"
      ]
     },
     "execution_count": 314,
     "metadata": {},
     "output_type": "execute_result"
    }
   ],
   "source": [
    "inv.get_laptop_from_id_fast('3362737')\n"
   ]
  },
  {
   "cell_type": "code",
   "execution_count": 315,
   "metadata": {
    "collapsed": true
   },
   "outputs": [],
   "source": [
    "inv.get_laptop_from_id_fast('3362736')"
   ]
  },
  {
   "cell_type": "code",
   "execution_count": 316,
   "metadata": {
    "collapsed": true
   },
   "outputs": [],
   "source": [
    "import time\n",
    "import random"
   ]
  },
  {
   "cell_type": "code",
   "execution_count": 317,
   "metadata": {
    "collapsed": false
   },
   "outputs": [],
   "source": [
    "values = [random.randint(1000000, 9999999) for _ in range(10001)]"
   ]
  },
  {
   "cell_type": "code",
   "execution_count": 318,
   "metadata": {
    "collapsed": false
   },
   "outputs": [],
   "source": [
    "total_time_no_dict = 0\n",
    "for ids in values:\n",
    "    start = time.time()\n",
    "    inv.get_laptop_from_id(ids)\n",
    "    end = time.time()\n",
    "    total_time_no_dict += (end - start)\n",
    "\n",
    "total_time_dict = 0\n",
    "for ids in values:\n",
    "    start = time.time()\n",
    "    inv.get_laptop_from_id_fast(ids)\n",
    "    end = time.time()\n",
    "    total_time_dict += (end - start)\n"
   ]
  },
  {
   "cell_type": "code",
   "execution_count": 319,
   "metadata": {
    "collapsed": false
   },
   "outputs": [
    {
     "name": "stdout",
     "output_type": "stream",
     "text": [
      "1.2387762069702148\n"
     ]
    }
   ],
   "source": [
    "print(total_time_no_dict)"
   ]
  },
  {
   "cell_type": "code",
   "execution_count": 320,
   "metadata": {
    "collapsed": false
   },
   "outputs": [
    {
     "name": "stdout",
     "output_type": "stream",
     "text": [
      "0.005871772766113281\n"
     ]
    }
   ],
   "source": [
    "print(total_time_dict)"
   ]
  },
  {
   "cell_type": "code",
   "execution_count": 321,
   "metadata": {
    "collapsed": false
   },
   "outputs": [
    {
     "data": {
      "text/plain": [
       "True"
      ]
     },
     "execution_count": 321,
     "metadata": {},
     "output_type": "execute_result"
    }
   ],
   "source": [
    "inv.check_promotion_dollars(1000)"
   ]
  },
  {
   "cell_type": "code",
   "execution_count": 322,
   "metadata": {
    "collapsed": false
   },
   "outputs": [
    {
     "data": {
      "text/plain": [
       "False"
      ]
     },
     "execution_count": 322,
     "metadata": {},
     "output_type": "execute_result"
    }
   ],
   "source": [
    "inv.check_promotion_dollars(442)"
   ]
  },
  {
   "cell_type": "code",
   "execution_count": 323,
   "metadata": {
    "collapsed": false
   },
   "outputs": [
    {
     "data": {
      "text/plain": [
       "True"
      ]
     },
     "execution_count": 323,
     "metadata": {},
     "output_type": "execute_result"
    }
   ],
   "source": [
    "inv.check_promotion_dollars_fast(1000)"
   ]
  },
  {
   "cell_type": "code",
   "execution_count": 324,
   "metadata": {
    "collapsed": false
   },
   "outputs": [
    {
     "data": {
      "text/plain": [
       "False"
      ]
     },
     "execution_count": 324,
     "metadata": {},
     "output_type": "execute_result"
    }
   ],
   "source": [
    "inv.check_promotion_dollars_fast(442)"
   ]
  },
  {
   "cell_type": "code",
   "execution_count": null,
   "metadata": {
    "collapsed": true
   },
   "outputs": [],
   "source": [
    "prices = [random.randint(100, 5000) for _ in range(101)]"
   ]
  },
  {
   "cell_type": "code",
   "execution_count": null,
   "metadata": {
    "collapsed": false
   },
   "outputs": [],
   "source": [
    "total_time_no_set = 0\n",
    "for price in prices:\n",
    "    start = time.time()\n",
    "    inv.check_promotion_dollars(price)\n",
    "    end = time.time()\n",
    "    total_time_no_set += (end - start)\n",
    "\n",
    "total_time_no_set\n",
    "for price in prices:\n",
    "    start = time.time()\n",
    "    inv.check_promotion_dollars_fast(price)\n",
    "    end = time.time()\n",
    "    total_time_set += (end - start)\n"
   ]
  },
  {
   "cell_type": "code",
   "execution_count": null,
   "metadata": {
    "collapsed": false
   },
   "outputs": [],
   "source": [
    "print(total_time_no_set)"
   ]
  },
  {
   "cell_type": "code",
   "execution_count": null,
   "metadata": {
    "collapsed": false
   },
   "outputs": [],
   "source": [
    "print(total_time_set)"
   ]
  },
  {
   "cell_type": "code",
   "execution_count": null,
   "metadata": {
    "collapsed": false
   },
   "outputs": [],
   "source": [
    "inv.find_first_laptop_more_expensive(1000)"
   ]
  },
  {
   "cell_type": "code",
   "execution_count": null,
   "metadata": {
    "collapsed": false
   },
   "outputs": [],
   "source": [
    "inv.find_first_laptop_more_expensive(10000)"
   ]
  },
  {
   "cell_type": "code",
   "execution_count": null,
   "metadata": {
    "collapsed": true
   },
   "outputs": [],
   "source": []
  }
 ],
 "metadata": {
  "kernelspec": {
   "display_name": "Python 3",
   "language": "python",
   "name": "python3"
  },
  "language_info": {
   "codemirror_mode": {
    "name": "ipython",
    "version": 3
   },
   "file_extension": ".py",
   "mimetype": "text/x-python",
   "name": "python",
   "nbconvert_exporter": "python",
   "pygments_lexer": "ipython3",
   "version": "3.4.3"
  }
 },
 "nbformat": 4,
 "nbformat_minor": 2
}
